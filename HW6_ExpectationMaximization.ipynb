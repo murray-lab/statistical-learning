{
 "cells": [
  {
   "cell_type": "markdown",
   "metadata": {},
   "source": [
    "# Mathematical exercises"
   ]
  },
  {
   "cell_type": "markdown",
   "metadata": {},
   "source": [
    "**Exercise 1** (3 points): Problem 9.4 in the PRML textbook.\n",
    "\n",
    "**Exercise 2**: (3 points): Problem 9.14 in the PRML textbook."
   ]
  },
  {
   "cell_type": "markdown",
   "metadata": {},
   "source": [
    "# Coding exercises\n",
    "\n",
    "In the exercises below, we will implement the expectation maximization (EM) algorithm, applying it to a mixture of Gaussians model to describe clustering in data.\n",
    "\n",
    "Reminder: Once your notebook is complete, you should restart the kernel, run all of the cells in order, and make sure that no errors occur. Notebooks that run successfully without errors will be awarded one extra credit point."
   ]
  },
  {
   "cell_type": "code",
   "execution_count": 11,
   "metadata": {},
   "outputs": [],
   "source": [
    "import numpy as np\n",
    "import matplotlib.pyplot as plt"
   ]
  },
  {
   "cell_type": "markdown",
   "metadata": {},
   "source": [
    "## Mixture model for synthetic data\n",
    "\n",
    "To begin, we'll generate some synthetic data from a mixture of Gaussians model. Each data point is generated from one of two multimodal Gaussian distributions, but the points aren't given any labels."
   ]
  },
  {
   "cell_type": "code",
   "execution_count": 12,
   "metadata": {},
   "outputs": [
    {
     "data": {
      "text/plain": [
       "Text(0, 0.5, 'x2')"
      ]
     },
     "execution_count": 12,
     "metadata": {},
     "output_type": "execute_result"
    },
    {
     "data": {
      "image/png": "[encoded data removed]",
      "text/plain": [
       "<Figure size 288x288 with 1 Axes>"
      ]
     },
     "metadata": {
      "needs_background": "light"
     },
     "output_type": "display_data"
    }
   ],
   "source": [
    "# Make some fake data.\n",
    "\n",
    "d = 2  # dimensionality of data\n",
    "n = 100  # total number of data points\n",
    "\n",
    "# Generate means (we'll use underscores to denote the true parameters, which we'll try to infer below):\n",
    "mu1_ = np.ones(d)\n",
    "mu2_ = -np.ones(d)\n",
    "\n",
    "# Generate covariance matrices as linear combinations of outer products of basis vectors:\n",
    "vecs = np.random.randn(d,d)\n",
    "Sigma1_ = np.sum([(0.5+np.random.rand())*np.outer(vecs[i], vecs[i]) for i in range(d)], axis=0)\n",
    "Sigma2_ = np.sum([(0.5+np.random.rand())*np.outer(vecs[i], vecs[i]) for i in range(d)], axis=0)\n",
    "\n",
    "# The mixture probabilities:\n",
    "pi1_, pi2_ = 0.4, 0.6 \n",
    "\n",
    "# For each data point, choose a cluster that it belongs to and generate its location:\n",
    "x = np.zeros((0,d))\n",
    "labels = []  # we won't use cluster labels for fitting, but we'll use it to check the model below\n",
    "for ii in range(n):\n",
    "    if np.random.rand() < pi1_:\n",
    "        x = np.vstack((x, np.random.multivariate_normal(mu1_, Sigma1_)))\n",
    "        labels.append(0)\n",
    "    else:\n",
    "        x = np.vstack((x, np.random.multivariate_normal(mu2_, Sigma2_)))\n",
    "        labels.append(1)\n",
    "\n",
    "# Plot the data:\n",
    "plt.figure(figsize=(4,4))\n",
    "plt.plot(x[:,0], x[:,1], 'o')\n",
    "plt.xlabel('x1')\n",
    "plt.ylabel('x2')"
   ]
  },
  {
   "cell_type": "markdown",
   "metadata": {},
   "source": [
    "**Exercise 1** (5 points): Implement the EM algorithm to find the maximum likelihood solution for a mixture of Gaussians model with $K=2$ applied to the data above. Report the inferred values of the means and mixture probabilities. Plot the value of the log likelihood at each step in the iteration and show that it converges. Finally, plot the data on top of a contour plot illustrating the expected distribution under the fitted model. The algorithm should be implemented from scratch, with only basic Numpy functions being used."
   ]
  },
  {
   "cell_type": "code",
   "execution_count": 1,
   "metadata": {},
   "outputs": [],
   "source": [
    "## Solution ##\n",
    "\n"
   ]
  },
  {
   "cell_type": "markdown",
   "metadata": {},
   "source": [
    "**Exercise 2** (3 points): Now fit the same data the easy way using `GaussianMixture` from the `sklearn` library. Report the extimated mean vectors and mixture probabilities, as well as the fraction of cluster labels that are correctly predicted by the model by comparing the model's predicted cluster labels with the vector `labels` that we defined above."
   ]
  },
  {
   "cell_type": "code",
   "execution_count": 2,
   "metadata": {},
   "outputs": [],
   "source": [
    "from sklearn.mixture import GaussianMixture\n",
    "\n",
    "## Solution ##\n",
    "\n"
   ]
  },
  {
   "cell_type": "markdown",
   "metadata": {},
   "source": [
    "## Mixture model for the Iris dataset\n",
    "\n",
    "In class we explored the Iris dataset, which quantifies four characteristics of three different flower subspecies. Let's load that dataset again and look at some of its properties."
   ]
  },
  {
   "cell_type": "code",
   "execution_count": 15,
   "metadata": {},
   "outputs": [
    {
     "name": "stdout",
     "output_type": "stream",
     "text": [
      "Features: \n",
      " ['sepal length (cm)', 'sepal width (cm)', 'petal length (cm)', 'petal width (cm)']\n",
      "Targets: \n",
      " ['setosa' 'versicolor' 'virginica']\n",
      "n_samples, n_features:  (150, 4)\n",
      "X data: \n",
      " [[5.1 3.5 1.4 0.2]\n",
      " [4.9 3.  1.4 0.2]\n",
      " [4.7 3.2 1.3 0.2]]\n",
      "y data: \n",
      " [0 0 0]\n"
     ]
    }
   ],
   "source": [
    "# Load the Iris dataset:\n",
    "from sklearn.datasets import load_iris\n",
    "data = load_iris()  # data is a dictionary containing lots of things\n",
    "\n",
    "# List of the features and targets being measured:\n",
    "print('Features: \\n', data['feature_names'])\n",
    "print('Targets: \\n', data['target_names'])\n",
    "\n",
    "# The input data (each row gives measurements of the features listed above):\n",
    "X_iris = data['data']\n",
    "n_samples, n_features = np.shape(data['data'])\n",
    "print('n_samples, n_features: ', (n_samples, n_features))\n",
    "\n",
    "# The target data (subspecies identity):\n",
    "y_iris = data['target']\n",
    "\n",
    "# Print the first few samples of x and y data:\n",
    "print('X data: \\n', X_iris[:3,:])\n",
    "print('y data: \\n', y_iris[:3])\n"
   ]
  },
  {
   "cell_type": "markdown",
   "metadata": {},
   "source": [
    "**Exercise 3** (4 points): Fit Gaussian mixture models to this data using the `GaussianMixture` class as above, now for several different values of $K$ (number of clusters). After reading the documentation of this class, plot, for each value of $K$, the model's log likelihood, as well as the Bayesian information criterion (BIC), which is the same as the negative log likelihood but also penalizes the number of parameters in the model (note that lower BIC scores are better; see the textbook or Wikipedia for more details). Give an explanation for why these curves look the way that they do. Based on the results, what number of clusters best describes the data? In general, how does the number of parameters in the mixture model depend on the number of features $M$ and the number of clusters $K$?"
   ]
  },
  {
   "cell_type": "code",
   "execution_count": 3,
   "metadata": {},
   "outputs": [],
   "source": [
    "## Solution ##\n",
    "\n"
   ]
  },
  {
   "cell_type": "code",
   "execution_count": null,
   "metadata": {},
   "outputs": [],
   "source": []
  }
 ],
 "metadata": {
  "kernelspec": {
   "display_name": "Python 3 (ipykernel)",
   "language": "python",
   "name": "python3"
  },
  "language_info": {
   "codemirror_mode": {
    "name": "ipython",
    "version": 3
   },
   "file_extension": ".py",
   "mimetype": "text/x-python",
   "name": "python",
   "nbconvert_exporter": "python",
   "pygments_lexer": "ipython3",
   "version": "3.9.5"
  }
 },
 "nbformat": 4,
 "nbformat_minor": 4
}
