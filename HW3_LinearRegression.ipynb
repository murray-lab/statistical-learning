{
 "cells": [
  {
   "cell_type": "markdown",
   "metadata": {},
   "source": [
    "# Mathematical exercises\n",
    "\n",
    "Solutions to the following exercises may be either typed into the submitted Jupyter notebook, or handwritten solutions may be scanned and submitted as a separate PDF file.\n"
   ]
  },
  {
   "cell_type": "markdown",
   "metadata": {},
   "source": [
    "**Exercise 1** (3 points): Problem 3.11 from the PRML textbook."
   ]
  },
  {
   "cell_type": "markdown",
   "metadata": {},
   "source": [
    "**Exercise 2** (3 points): In class we used the following formula for matrix inversion:\n",
    "$$\n",
    "(A^{-1} + \\vec{u}\\vec{v}^\\top)^{-1} = A - \\frac{A \\vec{u} \\vec{v}^\\top A}{1 + \\vec{v}^T A \\vec{u}}\n",
    "$$\n",
    "where $A$ is an invertible matix. In addition to helping us prove our result about Bayesian regression, this formula is often useful because, although computing a matrix inverse is computationally costly in general, if we are just adding a rank-one perturbation to a matrix whose inverse we already know, inverting the new matrix is not so costly. Prove the above formula."
   ]
  },
  {
   "cell_type": "code",
   "execution_count": null,
   "metadata": {},
   "outputs": [],
   "source": []
  },
  {
   "cell_type": "markdown",
   "metadata": {},
   "source": [
    "# Coding exercises\n",
    "\n",
    "Reminder: Once your notebook is complete, you should restart the kernel, run all of the cells in order, and make sure that no errors occur. Notebooks that run successfully without errors will be awarded one extra credit point."
   ]
  },
  {
   "cell_type": "code",
   "execution_count": 1,
   "metadata": {},
   "outputs": [],
   "source": [
    "import numpy as np\n",
    "import matplotlib.pyplot as plt"
   ]
  },
  {
   "cell_type": "markdown",
   "metadata": {},
   "source": [
    "## Linear regression with regularization\n",
    "\n",
    "Let us return to the regression problem that we studied in the first homework assignment. In that assignment, we showed that cross-validation, i.e. splitting data into training and testing sets, can be an effective strategy to combat overfitting. In this assignment, we'll look at another strategy to combat overfitting: regularization.\n",
    "\n",
    "As before, let's make some fake data from a sine wave with added noise."
   ]
  },
  {
   "cell_type": "code",
   "execution_count": 2,
   "metadata": {},
   "outputs": [
    {
     "data": {
      "text/plain": [
       "Text(0, 0.5, 'y')"
      ]
     },
     "execution_count": 2,
     "metadata": {},
     "output_type": "execute_result"
    },
    {
     "data": {
      "image/png": "[encoded data removed]",
      "text/plain": [
       "<Figure size 432x288 with 1 Axes>"
      ]
     },
     "metadata": {
      "needs_background": "light"
     },
     "output_type": "display_data"
    }
   ],
   "source": [
    "n = 40  # number of data points\n",
    "\n",
    "# Simulated data:\n",
    "x_data = 2*np.pi*np.random.rand(n)\n",
    "noise_amp = 0.3\n",
    "noise = noise_amp*np.random.randn(n)\n",
    "y_data = np.sin(x_data) + noise\n",
    "\n",
    "plt.plot(x_data, y_data, 'o')\n",
    "plt.xlabel('x')\n",
    "plt.ylabel('y')"
   ]
  },
  {
   "cell_type": "markdown",
   "metadata": {},
   "source": [
    "Next, as in our class demo, let's create polynomial feature vectors from the data and plot the prediction curve:"
   ]
  },
  {
   "cell_type": "code",
   "execution_count": 3,
   "metadata": {},
   "outputs": [
    {
     "data": {
      "text/plain": [
       "Text(0, 0.5, 'y')"
      ]
     },
     "execution_count": 3,
     "metadata": {},
     "output_type": "execute_result"
    },
    {
     "data": {
      "image/png": "[encoded data removed]",
      "text/plain": [
       "<Figure size 432x288 with 1 Axes>"
      ]
     },
     "metadata": {
      "needs_background": "light"
     },
     "output_type": "display_data"
    }
   ],
   "source": [
    "m = 10  # number of feature vectors (i.e. m-1 is the order of the polynomial)\n",
    "alpha = 0.0  # regularization parameter\n",
    "\n",
    "# Create the design matrix:\n",
    "phi = np.zeros((n, m))\n",
    "for j in range(m):\n",
    "    phi[:,j] = x_data**j\n",
    "\n",
    "# The weight vector minimizing the mean squared error:\n",
    "w = np.linalg.inv(alpha*np.eye(m) + phi.T @ phi) @ phi.T @ y_data\n",
    "\n",
    "# To plot the prediction curve, create an array of x data and corresponding y data:\n",
    "x_array = np.arange(0, 2*np.pi, 0.01)\n",
    "y_pred = np.zeros_like(x_array)\n",
    "for i, x in enumerate(x_array):\n",
    "    y_pred[i] = np.sum([w[j]*x**j for j in range(m)])\n",
    "    \n",
    "plt.plot(x_array, y_pred)\n",
    "plt.plot(x_data, y_data, 'o')\n",
    "plt.xlabel('x')\n",
    "plt.ylabel('y')"
   ]
  },
  {
   "cell_type": "markdown",
   "metadata": {},
   "source": [
    "**Exercise 1** (3 pts): Turn the above block of code into a function, `mse(x_data, y_data, m, alpha)`, that fits a polynomial with `m` parameters to data with regularization parameter `alpha`, as in the above block of code, and returns the MSE. Use this function to plot the MSE for different values of `alpha`, using `plt.semilogx()` to scale the x-axis logarithmically. Explain why the curve that you plot looks the way that it does."
   ]
  },
  {
   "cell_type": "code",
   "execution_count": 1,
   "metadata": {},
   "outputs": [],
   "source": [
    "## Solution ##\n"
   ]
  },
  {
   "cell_type": "markdown",
   "metadata": {},
   "source": [
    "**Exercise 2** (3 points): Create another version of the function from above, calling the new version `mse_cv(x_data, y_data, m, alpha, cv, make_plot)`, that takes two new Boolean arguments. \n",
    "- If `cv=True`, perform cross-validation by splitting the data into training and testing sets and performing the fit with just the training data. The function should return both the MSE computed with the training data and the MSE computed with the testing data. \n",
    "- If `make_plot=True`, plot the data together with the fit. If cross-validation is used, plot the training and testing data in separate colors, with a legend to distinguish them."
   ]
  },
  {
   "cell_type": "code",
   "execution_count": 2,
   "metadata": {},
   "outputs": [],
   "source": [
    "## Solution  ##\n",
    "\n"
   ]
  },
  {
   "cell_type": "markdown",
   "metadata": {},
   "source": [
    "**Exercise 3** (3 points): Use the above function to make a plot of both the training and testing MSE for various values of `alpha`. (This will work best if the values are evenly spaced on a log scale.) Report the value of `alpha` (an approximate value is fine) that minimizes the testing MSE. Finally, use the `make_plot` option in the function above to make two plots of the data along with the fits, where one fit doesn't use regularization, and the other fit uses the optimal value that was just found."
   ]
  },
  {
   "cell_type": "code",
   "execution_count": 3,
   "metadata": {},
   "outputs": [],
   "source": [
    "## Solution ##\n",
    "\n"
   ]
  },
  {
   "cell_type": "code",
   "execution_count": 4,
   "metadata": {},
   "outputs": [],
   "source": [
    "## Solution ##\n",
    "\n"
   ]
  },
  {
   "cell_type": "markdown",
   "metadata": {},
   "source": [
    "## Linear regression with a built-in function\n",
    "\n",
    "Now let's get the same results with less work using a built-in package. \n",
    "\n",
    "**Exercise 4** (3 points): Read the documentation for `linear_model.LinearRegression()` from the `sklearn` library, which contains implementations of lots of standard machine algorithms. Following the example in the documentation, and without using regularization, fit a linear model to the first half of our data, then use the `.score()` method to quantify the goodness of fit for both the training set and the testing set. (Note that the score being returned by this function is given by $r^2 = 1 - \\mathrm{MSE}/\\sigma^2$, where $\\sigma^2$ is the variance of the data along the y dimension. This means that scores close to 1 are very good, while negative scores or scores close to zero are bad.) Plot the fit along with the data, with the training and testing data in different colors. The result should match the plot we made above."
   ]
  },
  {
   "cell_type": "code",
   "execution_count": 11,
   "metadata": {},
   "outputs": [],
   "source": [
    "from sklearn import linear_model"
   ]
  },
  {
   "cell_type": "code",
   "execution_count": 5,
   "metadata": {},
   "outputs": [],
   "source": [
    "## Solution ##\n",
    "\n"
   ]
  },
  {
   "cell_type": "markdown",
   "metadata": {},
   "source": [
    "**Exercise 5** (3 points): Repeat the previous exercise, now using `linear_model.RidgeCV()`, which uses ridge regression (i.e. regularized just as with our `alpha` parameter above) with built-in cross validation (i.e. cross-validation is used to select the best regularization value as we did above, then the result is reported using this optimal value). You should find that the scores for the training and testing datasets are much more similar than before."
   ]
  },
  {
   "cell_type": "code",
   "execution_count": 6,
   "metadata": {},
   "outputs": [],
   "source": [
    "## Solution ##\n",
    "\n"
   ]
  },
  {
   "cell_type": "code",
   "execution_count": null,
   "metadata": {},
   "outputs": [],
   "source": []
  }
 ],
 "metadata": {
  "kernelspec": {
   "display_name": "Python 3",
   "language": "python",
   "name": "python3"
  },
  "language_info": {
   "codemirror_mode": {
    "name": "ipython",
    "version": 3
   },
   "file_extension": ".py",
   "mimetype": "text/x-python",
   "name": "python",
   "nbconvert_exporter": "python",
   "pygments_lexer": "ipython3",
   "version": "3.7.10"
  }
 },
 "nbformat": 4,
 "nbformat_minor": 4
}
