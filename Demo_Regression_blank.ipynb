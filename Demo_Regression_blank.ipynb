{
 "cells": [
  {
   "cell_type": "code",
   "execution_count": 3,
   "id": "b21f9601",
   "metadata": {},
   "outputs": [],
   "source": [
    "import numpy as np\n",
    "import matplotlib.pyplot as plt"
   ]
  },
  {
   "cell_type": "markdown",
   "id": "af01d6ce",
   "metadata": {},
   "source": [
    "In this notebook, we'll implement multivariate linear regression with a simple example.\n",
    "\n",
    "First, as before, let's make up some fake data:"
   ]
  },
  {
   "cell_type": "code",
   "execution_count": 4,
   "id": "1000aa29",
   "metadata": {},
   "outputs": [
    {
     "data": {
      "text/plain": [
       "Text(0, 0.5, 'y')"
      ]
     },
     "execution_count": 4,
     "metadata": {},
     "output_type": "execute_result"
    },
    {
     "data": {
      "image/png": "[encoded data removed]",
      "text/plain": [
       "<Figure size 432x288 with 1 Axes>"
      ]
     },
     "metadata": {
      "needs_background": "light"
     },
     "output_type": "display_data"
    }
   ],
   "source": [
    "n = 20  # number of data points\n",
    "\n",
    "# Simulated data:\n",
    "x_data = 2*np.pi*np.random.rand(n)\n",
    "noise_amp = 0.3\n",
    "noise = noise_amp*np.random.randn(n)\n",
    "y_data = np.sin(x_data) + noise\n",
    "\n",
    "plt.plot(x_data, y_data, 'o')\n",
    "plt.xlabel('x')\n",
    "plt.ylabel('y')"
   ]
  },
  {
   "cell_type": "markdown",
   "id": "b3873aa8",
   "metadata": {},
   "source": [
    "We'll fit this data with a polynomial, as before, except that this time we'll do it from scratch rather than using a built-in Numpy function.\n",
    "\n",
    "**Exercise**: Using the data above, create a polynomial feature vector for each data point and combine these feature vectors into a design matrix $\\Phi_{nj} = \\phi_j(x_n) = x_n^j$, where $x_n$ is one of the data points, and $j=0, \\ldots, M-1$."
   ]
  },
  {
   "cell_type": "code",
   "execution_count": 14,
   "id": "83ba89ac",
   "metadata": {},
   "outputs": [],
   "source": [
    "## Solution ##\n",
    "\n"
   ]
  },
  {
   "cell_type": "markdown",
   "id": "7c6492d9",
   "metadata": {},
   "source": [
    "Our goal is to fit the above data as a function $y(x_n, \\vec{w}) = \\vec{w} \\cdot \\vec{\\phi}(x_n)$, choosing parameter vector $\\mathbf{w}$ to optimize the following loss function:\n",
    "$$\n",
    "E(\\vec{w}) = \\frac{1}{2} \\sum_{n=1}^N [t_n - y(x_n, \\vec{w})]^2 \n",
    "+ \\frac{\\alpha}{2} |\\vec{w}|^2,\n",
    "$$\n",
    "where $t_n$ is the y coordinate of data point $n$.\n",
    "As we showed in class, the solution is given by\n",
    "$$\n",
    "\\vec{w} = [\\alpha I + \\Phi^\\top \\Phi ]^{-1} \\Phi^\\top \\vec{t}\n",
    "$$\n",
    "\n",
    "**Exercise**: Using the above solution for $\\vec{w}$, plot the prediction curve $y(x, \\vec{w})$ along with the data. Try doing this with a few different values of $\\alpha$ and see how the curves differ."
   ]
  },
  {
   "cell_type": "code",
   "execution_count": 1,
   "id": "ac6e5fbc",
   "metadata": {},
   "outputs": [],
   "source": [
    "## Solution ##\n",
    "\n"
   ]
  },
  {
   "cell_type": "code",
   "execution_count": null,
   "id": "fae9b34e",
   "metadata": {},
   "outputs": [],
   "source": []
  }
 ],
 "metadata": {
  "kernelspec": {
   "display_name": "Python 3 (ipykernel)",
   "language": "python",
   "name": "python3"
  },
  "language_info": {
   "codemirror_mode": {
    "name": "ipython",
    "version": 3
   },
   "file_extension": ".py",
   "mimetype": "text/x-python",
   "name": "python",
   "nbconvert_exporter": "python",
   "pygments_lexer": "ipython3",
   "version": "3.9.5"
  }
 },
 "nbformat": 4,
 "nbformat_minor": 5
}
