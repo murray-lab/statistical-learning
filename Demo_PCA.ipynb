{
 "cells": [
  {
   "cell_type": "code",
   "execution_count": 6,
   "metadata": {},
   "outputs": [],
   "source": [
    "import numpy as np\n",
    "import matplotlib.pyplot as plt"
   ]
  },
  {
   "cell_type": "markdown",
   "metadata": {},
   "source": [
    "In this notebook we demonstrate principal components analysis (PCA). First we will perform PCA by hand by computing eigenvalues and eigenvectors of the data covariance matrix; then we will show how to obtain the same results using the `sklearn` library."
   ]
  },
  {
   "cell_type": "code",
   "execution_count": 7,
   "metadata": {},
   "outputs": [
    {
     "data": {
      "text/plain": [
       "(-4.0, 4.0)"
      ]
     },
     "execution_count": 7,
     "metadata": {},
     "output_type": "execute_result"
    },
    {
     "data": {
      "image/png": "[encoded data removed]",
      "text/plain": [
       "<Figure size 288x288 with 1 Axes>"
      ]
     },
     "metadata": {
      "needs_background": "light"
     },
     "output_type": "display_data"
    }
   ],
   "source": [
    "# Make up some two-dimensional data\n",
    "n = 100\n",
    "mu = np.array([-0.5, 1.])\n",
    "sig = np.array([[1, -0.6], [-0.6, 0.8]])\n",
    "x = np.random.multivariate_normal(mu, sig, n)\n",
    "\n",
    "# Plot the data\n",
    "plt.figure(figsize=(4,4))\n",
    "plt.plot(x[:,0], x[:,1], 'o')\n",
    "plt.xlabel('x1')\n",
    "plt.ylabel('x2')\n",
    "plt.xlim(-4,4)\n",
    "plt.ylim(-4,4)"
   ]
  },
  {
   "cell_type": "markdown",
   "metadata": {},
   "source": [
    "First we'll do PCA by hand by computing the eigendecomposition of the covariance matrix.\n",
    "\n",
    "**Exercise**: Compute the covariance matrix from the data above, and show that it is similar to the covariance matrix that was used to generate the data. Compute the eigenvalues of the data covariance matrix. What is the fraction of the total variance accounted for by the first principal component?"
   ]
  },
  {
   "cell_type": "code",
   "execution_count": 8,
   "metadata": {},
   "outputs": [
    {
     "name": "stdout",
     "output_type": "stream",
     "text": [
      "Data covariance: \n",
      " [[ 1.12052527 -0.64751948]\n",
      " [-0.64751948  0.80423148]]\n",
      "Model covariance: \n",
      " [[ 1.  -0.6]\n",
      " [-0.6  0.8]]\n",
      "Eigenvalues:  [1.62893063 0.29582611]\n",
      "Fraction of variance accounted for by 1st PC:  0.8463046761848645\n"
     ]
    }
   ],
   "source": [
    "## Solution ##\n",
    "\n",
    "# Compute the data covariance matrix:\n",
    "data_cov = np.cov(x.T)\n",
    "\n",
    "# Show that it is close to the covariance matrix used to generate the data:\n",
    "print('Data covariance: \\n', data_cov)\n",
    "print('Model covariance: \\n', sig)\n",
    "\n",
    "# Get the evals and evecs (columns of evecs are eigenvectors):\n",
    "evals, evecs = np.linalg.eig(data_cov)\n",
    "\n",
    "# Note that NumPy automatically orders them according to eigenvalue magnitude:\n",
    "print('Eigenvalues: ', evals)\n",
    "print('Fraction of variance accounted for by 1st PC: ', evals[0]/np.sum(evals))"
   ]
  },
  {
   "cell_type": "code",
   "execution_count": 9,
   "metadata": {},
   "outputs": [
    {
     "data": {
      "text/plain": [
       "<matplotlib.legend.Legend at 0x7f840e90b3d0>"
      ]
     },
     "execution_count": 9,
     "metadata": {},
     "output_type": "execute_result"
    },
    {
     "data": {
      "image/png": "[encoded data removed]",
      "text/plain": [
       "<Figure size 360x360 with 1 Axes>"
      ]
     },
     "metadata": {
      "needs_background": "light"
     },
     "output_type": "display_data"
    }
   ],
   "source": [
    "# Plot the data together with the PCs scaled by the sqrt(variance) and centered with the data.\n",
    "\n",
    "# The mean of the data:\n",
    "x_mean = np.mean(x, axis=0)\n",
    "\n",
    "# Get the PC vectors and scaling factors, using evals and evecs computed above:\n",
    "[u1, u2] = evecs.T\n",
    "std1 = evals[0]**0.5\n",
    "std2 = evals[1]**0.5\n",
    "\n",
    "# Plot the data:\n",
    "plt.figure(figsize=(5,5))\n",
    "plt.plot(x[:,0], x[:,1], 'o', alpha=0.3)\n",
    "\n",
    "# Plot a line showing the first PC scaled by the sqrt(variance):\n",
    "plt.plot([x_mean[0] - std1*u1[0], x_mean[0] + std1*u1[0]], \n",
    "         [x_mean[1] - std1*u1[1], x_mean[1] + std1*u1[1]], lw=5)\n",
    "\n",
    "# Plot a line showing the second PC scaled by the sqrt(variance):\n",
    "plt.plot([x_mean[0] - std2*u2[0], x_mean[0] + std2*u2[0]], \n",
    "         [x_mean[1] - std2*u2[1], x_mean[1] + std2*u2[1]], lw=5)\n",
    "\n",
    "plt.xlabel('x1')\n",
    "plt.ylabel('x2')\n",
    "plt.xlim(-5,5)\n",
    "plt.ylim(-5,5)\n",
    "plt.legend(['data','PC1','PC2'])"
   ]
  },
  {
   "cell_type": "markdown",
   "metadata": {},
   "source": [
    "**Exercise**: Subtract the mean from the data and plot the data projected onto the two PC axes."
   ]
  },
  {
   "cell_type": "code",
   "execution_count": 10,
   "metadata": {},
   "outputs": [
    {
     "data": {
      "text/plain": [
       "(-5.0, 5.0)"
      ]
     },
     "execution_count": 10,
     "metadata": {},
     "output_type": "execute_result"
    },
    {
     "data": {
      "image/png": "[encoded data removed]",
      "text/plain": [
       "<Figure size 360x360 with 1 Axes>"
      ]
     },
     "metadata": {
      "needs_background": "light"
     },
     "output_type": "display_data"
    }
   ],
   "source": [
    "## Solution ##\n",
    "\n",
    "# Project the data onto the principal component axes. Typically we subtract off the mean first:\n",
    "x_meansub = x - x_mean\n",
    "proj = x_meansub @ evecs  # x_meansub is N-by-2; evecs is 2-by-2 (where columns are PCs)\n",
    "\n",
    "# Plot the data projected along the first two PCs:\n",
    "plt.figure(figsize=(5,5))\n",
    "plt.plot(proj[:,0], proj[:,1], 'o')\n",
    "plt.xlabel('PC 1')\n",
    "plt.ylabel('PC 2')\n",
    "plt.xlim(-5,5)\n",
    "plt.ylim(-5,5)"
   ]
  },
  {
   "cell_type": "markdown",
   "metadata": {},
   "source": [
    "## PCA using sk-learn\n",
    "\n",
    "Now we'll do PCA on the above data using `sklearn`."
   ]
  },
  {
   "cell_type": "code",
   "execution_count": 11,
   "metadata": {},
   "outputs": [
    {
     "name": "stdout",
     "output_type": "stream",
     "text": [
      "[[ 0.78653069 -0.61755119]\n",
      " [ 0.61755119  0.78653069]]\n",
      "Variance explained by (PC1, PC2):  [1.62893063 0.29582611]\n",
      "Fraction of variance explained by (PC1, PC2):  [0.84630468 0.15369532]\n"
     ]
    }
   ],
   "source": [
    "from sklearn.decomposition import PCA\n",
    "\n",
    "# Perform PCA on the data:\n",
    "pca = PCA()\n",
    "pca.fit(x)\n",
    "PCs = pca.components_  # each row is one of the PC vectors\n",
    "print(PCs)\n",
    "\n",
    "# How much variance is explained by each PC?\n",
    "print('Variance explained by (PC1, PC2): ', pca.explained_variance_)\n",
    "print('Fraction of variance explained by (PC1, PC2): ', pca.explained_variance_ratio_)"
   ]
  },
  {
   "cell_type": "markdown",
   "metadata": {},
   "source": [
    "**Exercise**: (a) Show that the PC vectors obtained above are orthonormal. (b) As we did above, plot the mean-subtracted data projected onto the two PC vectors."
   ]
  },
  {
   "cell_type": "code",
   "execution_count": 12,
   "metadata": {},
   "outputs": [
    {
     "name": "stdout",
     "output_type": "stream",
     "text": [
      "PC vectors have length=1:  1.0 1.0\n",
      "PC vectors are orthogonal to one another:  0.0\n"
     ]
    },
    {
     "data": {
      "text/plain": [
       "(-5.0, 5.0)"
      ]
     },
     "execution_count": 12,
     "metadata": {},
     "output_type": "execute_result"
    },
    {
     "data": {
      "image/png": "[encoded data removed]",
      "text/plain": [
       "<Figure size 360x360 with 1 Axes>"
      ]
     },
     "metadata": {
      "needs_background": "light"
     },
     "output_type": "display_data"
    }
   ],
   "source": [
    "## Solution ##\n",
    "\n",
    "# Give names to the two PC vectors:\n",
    "pc1 = PCs[0,:]\n",
    "pc2 = PCs[1,:]\n",
    "\n",
    "print('PC vectors have length=1: ', np.linalg.norm(pc1), np.linalg.norm(pc2))\n",
    "print('PC vectors are orthogonal to one another: ', np.dot(pc1, pc2))\n",
    "\n",
    "# As above, project the data onto the principal component axes:\n",
    "proj = x_meansub @ PCs.T\n",
    "\n",
    "# Plot the data projected along the first two PCs:\n",
    "plt.figure(figsize=(5,5))\n",
    "plt.plot(proj[:,0], proj[:,1], 'o')\n",
    "plt.xlabel('PC 1')\n",
    "plt.ylabel('PC 2')\n",
    "plt.xlim(-5,5)\n",
    "plt.ylim(-5,5)"
   ]
  },
  {
   "cell_type": "markdown",
   "metadata": {},
   "source": [
    "## PCA on the Iris dataset\n",
    "\n",
    "Let's load the iris dataset, in which each datapoint corresponds to four values measured for a particular flower, and the labels of datapoints correspond to the flowers' subspecies identities."
   ]
  },
  {
   "cell_type": "code",
   "execution_count": 13,
   "metadata": {},
   "outputs": [
    {
     "name": "stdout",
     "output_type": "stream",
     "text": [
      "Features: \n",
      " ['sepal length (cm)', 'sepal width (cm)', 'petal length (cm)', 'petal width (cm)']\n",
      "Targets: \n",
      " ['setosa' 'versicolor' 'virginica']\n",
      "n_samples, n_features:  (150, 4)\n",
      "X data: \n",
      " [[5.1 3.5 1.4 0.2]\n",
      " [4.9 3.  1.4 0.2]\n",
      " [4.7 3.2 1.3 0.2]]\n",
      "y data: \n",
      " [0 0 0]\n"
     ]
    }
   ],
   "source": [
    "# Load the data:\n",
    "from sklearn.datasets import load_iris\n",
    "data = load_iris()  # data is a dictionary containing lots of things\n",
    "\n",
    "# List of the features and targets being measured:\n",
    "print('Features: \\n', data['feature_names'])\n",
    "print('Targets: \\n', data['target_names'])\n",
    "\n",
    "# The input data (each row gives measurements of the features listed above):\n",
    "X_iris = data['data']\n",
    "n_samples, n_features = np.shape(data['data'])\n",
    "print('n_samples, n_features: ', (n_samples, n_features))\n",
    "\n",
    "# The target data (subspecies identity):\n",
    "y = data['target']\n",
    "\n",
    "# Print the first few samples of x and y data:\n",
    "print('X data: \\n', X_iris[:3,:])\n",
    "print('y data: \\n', y[:3])\n"
   ]
  },
  {
   "cell_type": "markdown",
   "metadata": {},
   "source": [
    "**Exercise**: Perform PCA on the iris data and plot the data projected onto the first two principal components. Report the fraction of variance explained by each principal component."
   ]
  },
  {
   "cell_type": "code",
   "execution_count": 14,
   "metadata": {},
   "outputs": [
    {
     "name": "stdout",
     "output_type": "stream",
     "text": [
      "Fraction of variance explained by each PC:  [0.92461872 0.05306648 0.01710261 0.00521218]\n"
     ]
    },
    {
     "data": {
      "text/plain": [
       "Text(0, 0.5, 'PC 2')"
      ]
     },
     "execution_count": 14,
     "metadata": {},
     "output_type": "execute_result"
    },
    {
     "data": {
      "image/png": "[encoded data removed]",
      "text/plain": [
       "<Figure size 360x360 with 1 Axes>"
      ]
     },
     "metadata": {
      "needs_background": "light"
     },
     "output_type": "display_data"
    }
   ],
   "source": [
    "## Solution ##\n",
    "\n",
    "# Perform PCA on the data:\n",
    "pca = PCA()\n",
    "pca.fit(X_iris)\n",
    "PCs = pca.components_  # each row is one of the PC vectors\n",
    "\n",
    "print('Fraction of variance explained by each PC: ', pca.explained_variance_ratio_)\n",
    "\n",
    "# Subtract the mean from the data:\n",
    "X_iris_mean = np.mean(X_iris, axis=0)\n",
    "X_iris_meansub = X_iris - X_iris_mean\n",
    "\n",
    "# As above, project the data onto the principal component axes:\n",
    "proj = X_iris_meansub @ PCs.T\n",
    "\n",
    "# Plot the data:\n",
    "plt.figure(figsize=(5,5))\n",
    "for label in [0,1,2]:\n",
    "    plt.plot(proj[y==label,0], proj[y==label,1], 'o')\n",
    "plt.legend(data['target_names'])\n",
    "plt.xlabel('PC 1')\n",
    "plt.ylabel('PC 2')"
   ]
  },
  {
   "cell_type": "markdown",
   "metadata": {},
   "source": [
    "# Nonlinear dimensionality reduction"
   ]
  },
  {
   "cell_type": "markdown",
   "metadata": {},
   "source": [
    "## t-SNE\n",
    "\n",
    "T-SNE (T-distributed Stochastic Neighbor Embedding) models each high-dimensional object by a two-dimensional point in such a way that similar objects are modeled by nearby points and dissimilar objects are modeled by distant points with high probability.\n",
    "\n",
    "T-SNE steps: \n",
    "1. First, t-SNE constructs a probability distribution over pairs of high-dimensional objects in such a way that similar objects are assigned a higher probability while dissimilar points are assigned a lower probability. \n",
    "2. Second, t-SNE defines a similar probability distribution over the points in the low-dimensional map, and it minimizes the Kullback–Leibler divergence (KL divergence) between the two distributions with respect to the locations of the points in the map. \n",
    "\n",
    "T-SNE tends to be useful for identifying cluster structure in data. \n",
    "\n",
    "Below we'll apply t-SNE to the Iris dataset."
   ]
  },
  {
   "cell_type": "code",
   "execution_count": 15,
   "metadata": {},
   "outputs": [
    {
     "name": "stdout",
     "output_type": "stream",
     "text": [
      "(150, 2)\n"
     ]
    },
    {
     "data": {
      "text/plain": [
       "<matplotlib.legend.Legend at 0x7f840f5817d0>"
      ]
     },
     "execution_count": 15,
     "metadata": {},
     "output_type": "execute_result"
    },
    {
     "data": {
      "image/png": "[encoded data removed]",
      "text/plain": [
       "<Figure size 360x360 with 1 Axes>"
      ]
     },
     "metadata": {
      "needs_background": "light"
     },
     "output_type": "display_data"
    }
   ],
   "source": [
    "from sklearn.manifold import TSNE\n",
    "\n",
    "X_tsne = TSNE(n_components=2).fit_transform(X_iris)\n",
    "print(X_tsne.shape)\n",
    "\n",
    "# Plot the data:\n",
    "plt.figure(figsize=(5,5))\n",
    "for label in [0,1,2]:\n",
    "    plt.plot(X_tsne[y==label,0], X_tsne[y==label,1], 'o')\n",
    "plt.legend(data['target_names'])\n"
   ]
  },
  {
   "cell_type": "markdown",
   "metadata": {},
   "source": [
    "## Locally linear embedding\n",
    "\n",
    "LLE is a nonlinear dimensionality reduction algorithm that seeks to preserve distances within local neighborhoods. It can be thought of as a series of local Principal Component Analyses which are globally compared to find the best non-linear embedding. \n",
    "\n",
    "LLE steps:\n",
    "1. Find a set of the nearest neighbors of each point.\n",
    "2. Compute a set of weights for each point that best describes the point as a linear combination of its neighbors.\n",
    "3. Use an eigenvector-based optimization technique to find the low-dimensional embedding of points, such that each point is still described with the same linear combination of its neighbors.\n",
    "\n",
    "This method tends to be useful for identifying low-dimensional curvy manifolds in high-dimensional data.\n",
    "\n",
    "The following example is from here:\n",
    "https://scikit-learn.org/stable/auto_examples/manifold/plot_swissroll.html#sphx-glr-auto-examples-manifold-plot-swissroll-py"
   ]
  },
  {
   "cell_type": "code",
   "execution_count": null,
   "metadata": {},
   "outputs": [],
   "source": [
    "# This import is needed to modify the way figure behaves\n",
    "from mpl_toolkits.mplot3d import Axes3D\n",
    "\n",
    "Axes3D\n",
    "\n",
    "# ----------------------------------------------------------------------\n",
    "# Locally linear embedding of the swiss roll\n",
    "\n",
    "from sklearn import manifold, datasets\n",
    "\n",
    "X, color = datasets.make_swiss_roll(n_samples=1500)\n",
    "\n",
    "print(\"Computing LLE embedding\")\n",
    "X_r, err = manifold.locally_linear_embedding(X, n_neighbors=12, n_components=2)\n",
    "print(\"Done. Reconstruction error: %g\" % err)\n",
    "\n",
    "# ----------------------------------------------------------------------\n",
    "# Plot result\n",
    "\n",
    "fig = plt.figure(figsize=(6,6))\n",
    "\n",
    "ax = fig.add_subplot(211, projection=\"3d\")\n",
    "ax.scatter(X[:, 0], X[:, 1], X[:, 2], c=color, cmap=plt.cm.Spectral)\n",
    "ax.set_title(\"Original data\")\n",
    "\n",
    "ax = fig.add_subplot(212)\n",
    "ax.scatter(X_r[:, 0], X_r[:, 1], c=color, cmap=plt.cm.Spectral)\n",
    "plt.axis(\"tight\")\n",
    "plt.xticks([]), plt.yticks([])\n",
    "plt.title(\"Projected data\")\n",
    "plt.tight_layout()\n",
    "plt.show()"
   ]
  },
  {
   "cell_type": "code",
   "execution_count": 22,
   "metadata": {},
   "outputs": [
    {
     "data": {
      "image/png": "[encoded data removed]",
      "text/plain": [
       "<Figure size 432x288 with 1 Axes>"
      ]
     },
     "metadata": {},
     "output_type": "display_data"
    }
   ],
   "source": [
    "# Plot the Iris data with LLE:\n",
    "\n",
    "X_r, err = manifold.locally_linear_embedding(X_iris, n_neighbors=12, n_components=2)\n",
    "\n",
    "for label in [0,1,2]:\n",
    "    plt.plot(X_r[y==label,0], X_r[y==label,1], 'o')\n",
    "plt.axis(\"tight\")\n",
    "plt.xticks([]), plt.yticks([])\n",
    "plt.title(\"Projected data\")\n",
    "plt.tight_layout()\n",
    "plt.show()"
   ]
  },
  {
   "cell_type": "markdown",
   "metadata": {},
   "source": [
    "From Wikipedia: \"LLE tends to handle non-uniform sample densities poorly because there is no fixed unit to prevent the weights from drifting as various regions differ in sample densities.\""
   ]
  },
  {
   "cell_type": "code",
   "execution_count": null,
   "metadata": {},
   "outputs": [],
   "source": []
  }
 ],
 "metadata": {
  "kernelspec": {
   "display_name": "Python 3",
   "language": "python",
   "name": "python3"
  },
  "language_info": {
   "codemirror_mode": {
    "name": "ipython",
    "version": 3
   },
   "file_extension": ".py",
   "mimetype": "text/x-python",
   "name": "python",
   "nbconvert_exporter": "python",
   "pygments_lexer": "ipython3",
   "version": "3.7.10"
  }
 },
 "nbformat": 4,
 "nbformat_minor": 4
}
