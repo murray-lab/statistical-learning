{
 "cells": [
  {
   "cell_type": "markdown",
   "id": "4eeb8c94",
   "metadata": {},
   "source": [
    "# Mathematical exercises\n",
    "\n",
    "**Exercise 1** (3 points): Problem 6.6 in the PRML textbook.\n"
   ]
  },
  {
   "cell_type": "markdown",
   "id": "e869df49",
   "metadata": {},
   "source": [
    "## Ornstein-Uhlenbeck process\n",
    "\n",
    "An Ornstein-Uhlenbeck stochastic process can be simulated in discrete time as an autoregressive \"AR(1)\" model, described by the equation\n",
    "$$\n",
    "y(t) = (1-a)y(t-1) + b \\xi(t),\n",
    "$$\n",
    "where $0 < a < 1$, $b > 0$, and $\\xi(t) \\sim \\mathcal{N}(0,1)$ is drawn independently at each time step. This equation can describe, for example, the time-dependent position of a particle that gets kicked around by random forces (the second term on the right hand side) and has a restoring force toward $y=0$ (the first term on the right hand side). This model and related ones have widespread applications in the physical sciences, engineering, and financial modeling.\n",
    "\n",
    "**Exercise 2** (3 points): Use the above equation to show that the autocorrelations are given by, for $\\tau \\geq 0$, $C(\\tau) \\equiv E[y(t) y(t-\\tau)] = (1-a)^\\tau C(0)$ and, for general $\\tau$, $C(\\tau) = (1-a)^{|\\tau|} C(0)$. "
   ]
  },
  {
   "cell_type": "markdown",
   "id": "c0f2e6a7",
   "metadata": {},
   "source": [
    "# Coding exercises\n",
    "\n",
    "In the exercises below, we will further explore the Ornstein-Uhlenbeck process, showing that it can be understood as an example of a Gaussian process.\n",
    "\n",
    "Reminder: Once your notebook is complete, you should restart the kernel, run all of the cells in order, and make sure that no errors occur. Notebooks that run successfully without errors will be awarded one extra credit point."
   ]
  },
  {
   "cell_type": "code",
   "execution_count": 2,
   "id": "b7de1fec",
   "metadata": {},
   "outputs": [],
   "source": [
    "import numpy as np\n",
    "import matplotlib.pyplot as plt"
   ]
  },
  {
   "cell_type": "markdown",
   "id": "feacf14b",
   "metadata": {},
   "source": [
    "**Exercise 1** (5 points): Simulate an AR(1) process using the above equation for 10,000 time steps with $y(0) = 0$, $b=1$, and choosing your own value for $a$. Plot the first 100 timesteps of $y(t)$. Compute the autocorrelation $C(\\tau)$ for $-100 < \\tau < 100$ empirically (i.e. replacing the expectation described above by an average over $t$), and plot the empirical $C(\\tau)/C(0)$ together with the theoretically derived result from above."
   ]
  },
  {
   "cell_type": "code",
   "execution_count": 1,
   "id": "053dcf85",
   "metadata": {},
   "outputs": [],
   "source": [
    "## Solution ##\n",
    "\n"
   ]
  },
  {
   "cell_type": "markdown",
   "id": "15276b65",
   "metadata": {},
   "source": [
    "Rather than generating an OU process by simulating it online (i.e. one time step at a time), we can interpret it as a Gaussian process. This means that, if we have $N$ timesteps, then a curve such as the one plotted in the previous exercise is interpreted as a single sample from a $N$-dimensional multivariate Gaussian distribution: $\\vec{y} \\sim \\mathcal{N}(\\vec{y} | 0, \\mathbf{K})$, where the kernel matrix has entries $K_{tt'} = \\exp(-\\theta|t-t'|)$, and $\\vec{y} = [y(1), y(2), \\ldots, y(N)]^\\top$.\n",
    "\n",
    "**Exercise 2** (5 points): Using the Gaussian process approach, generate and plot several examples of an OU process. Use the value of $\\theta$ that gives the same autocorrelations as the previous exercise, and state what this value is. Finally, compute and plot the autocorrelation curve as in the previous exercise, verifying that it again matches the theoretically derived result."
   ]
  },
  {
   "cell_type": "code",
   "execution_count": 2,
   "id": "0475a12b",
   "metadata": {},
   "outputs": [],
   "source": [
    "## Solution ##\n",
    "\n"
   ]
  },
  {
   "cell_type": "code",
   "execution_count": null,
   "id": "c4064b24",
   "metadata": {},
   "outputs": [],
   "source": []
  }
 ],
 "metadata": {
  "kernelspec": {
   "display_name": "Python 3",
   "language": "python",
   "name": "python3"
  },
  "language_info": {
   "codemirror_mode": {
    "name": "ipython",
    "version": 3
   },
   "file_extension": ".py",
   "mimetype": "text/x-python",
   "name": "python",
   "nbconvert_exporter": "python",
   "pygments_lexer": "ipython3",
   "version": "3.7.10"
  }
 },
 "nbformat": 4,
 "nbformat_minor": 5
}
